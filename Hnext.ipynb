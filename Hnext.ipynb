{
 "cells": [
  {
   "cell_type": "code",
   "execution_count": 11,
   "metadata": {},
   "outputs": [
    {
     "data": {
      "text/plain": [
       "13"
      ]
     },
     "execution_count": 11,
     "metadata": {},
     "output_type": "execute_result"
    }
   ],
   "source": [
    "import cv2\n",
    "import numpy as np\n",
    "\n",
    "img = cv2.imread('./images/mask.jpg')\n",
    "#img = np.random.randint(0, 256, size=(200, 300, 3), dtype=np.uint8)\n",
    "height, width, channels = img.shape\n",
    "upper_left = (int(width / 4), int(height / 4))\n",
    "bottom_right = (int(width * 3 / 4), int(height * 3 / 4))\n",
    "\n",
    "# draw in the image\n",
    "cv2.rectangle(img, upper_left, bottom_right, (0, 255, 0), 2)\n",
    "cv2.imshow('img', img)\n",
    "\n",
    "# indexing array \n",
    "#rect_img = img[upper_left[1] : bottom_right[1], upper_left[0] : bottom_right[0]]\n",
    "#rect_img[:] = 0    # modify value\n",
    "#cv2.imshow('aft', img)\n",
    "cv2.waitKey()"
   ]
  },
  {
   "cell_type": "code",
   "execution_count": 8,
   "metadata": {},
   "outputs": [
    {
     "name": "stdout",
     "output_type": "stream",
     "text": [
      "Resized Dimensions :  (500, 500, 3)\n"
     ]
    }
   ],
   "source": [
    "import cv2\n",
    " \n",
    "img = cv2.imread('./images/input.jpg', cv2.IMREAD_UNCHANGED)\n",
    "IMAGE_H = 500\n",
    "IMAGE_W = 500\n",
    "\n",
    "dim = (IMAGE_W, IMAGE_H)\n",
    "# resize image\n",
    "resized = cv2.resize(img, dim, interpolation = cv2.INTER_AREA)\n",
    "rows = resized.shape[0]\n",
    "cols = resized.shape[1]\n",
    "# cols-1 and rows-1 are the coordinate limits.\n",
    "M = cv2.getRotationMatrix2D(((cols-1)/2.0,(rows-1)/2.0),90,1)\n",
    "dst = cv2.warpAffine(resized,M,(cols,rows))\n",
    " \n",
    "print('Resized Dimensions : ',resized.shape)\n",
    " \n",
    "cv2.imshow(\"Resized image\", dst)\n",
    "cv2.waitKey(0)\n",
    "cv2.destroyAllWindows()"
   ]
  },
  {
   "cell_type": "code",
   "execution_count": 15,
   "metadata": {},
   "outputs": [
    {
     "name": "stdout",
     "output_type": "stream",
     "text": [
      "Resized Dimensions :  (500, 630, 3)\n",
      "Resized Dimensions :  (630, 500, 3)\n",
      "Resized Dimensions :  (630, 500, 3)\n"
     ]
    }
   ],
   "source": [
    "import cv2\n",
    "import numpy as np\n",
    "def resize(img):\n",
    "    IMAGE_H = 500\n",
    "    IMAGE_W = 630\n",
    "\n",
    "    dim = (IMAGE_W, IMAGE_H)\n",
    "    # resize image\n",
    "    resized = cv2.resize(img, dim)\n",
    "    return resized\n",
    "image = cv2.imread('images/input.jpg')\n",
    "image = resize(image)\n",
    "rotated_image = cv2.transpose(image)\n",
    "flipped = cv2.flip(rotated_image, -1)\n",
    "cv2.imshow('Rotated Image - Method 1', image)\n",
    "cv2.imshow('Rotated Image - Method 2', rotated_image)\n",
    "cv2.imshow('Rotated Image - Method 3', flipped)\n",
    "print('Resized Dimensions : ',image.shape)\n",
    "print('Resized Dimensions : ',rotated_image.shape)\n",
    "print('Resized Dimensions : ',flipped.shape)\n",
    "cv2.waitKey()\n",
    "cv2.destroyAllWindows()"
   ]
  }
 ],
 "metadata": {
  "kernelspec": {
   "display_name": "Python 3",
   "language": "python",
   "name": "python3"
  },
  "language_info": {
   "codemirror_mode": {
    "name": "ipython",
    "version": 3
   },
   "file_extension": ".py",
   "mimetype": "text/x-python",
   "name": "python",
   "nbconvert_exporter": "python",
   "pygments_lexer": "ipython3",
   "version": "3.7.3"
  }
 },
 "nbformat": 4,
 "nbformat_minor": 2
}
