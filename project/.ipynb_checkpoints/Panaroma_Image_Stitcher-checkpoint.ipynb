{
 "cells": [
  {
   "cell_type": "markdown",
   "metadata": {},
   "source": [
    "# Image stitching (Panorama Maker)"
   ]
  },
  {
   "cell_type": "code",
   "execution_count": 1,
   "metadata": {},
   "outputs": [
    {
     "name": "stdout",
     "output_type": "stream",
     "text": [
      "C:\\Users\\Admin\\Anaconda3\\lib\\site-packages\\cv2\\cv2.cp37-win_amd64.pyd\n"
     ]
    }
   ],
   "source": [
    "import cv2\n",
    "import numpy as np\n",
    "print(cv2.__file__)"
   ]
  },
  {
   "cell_type": "code",
   "execution_count": 7,
   "metadata": {},
   "outputs": [
    {
     "name": "stdout",
     "output_type": "stream",
     "text": [
      "[array([[[ 70,  79,  99],\n",
      "        [ 70,  79,  99],\n",
      "        [ 69,  78,  98],\n",
      "        ...,\n",
      "        [  0,   0,   0],\n",
      "        [  0,   0,   0],\n",
      "        [  0,   0,   0]],\n",
      "\n",
      "       [[ 71,  81, 100],\n",
      "        [ 71,  79, 100],\n",
      "        [ 70,  79,  99],\n",
      "        ...,\n",
      "        [  0,   0,   0],\n",
      "        [  0,   0,   0],\n",
      "        [  0,   0,   0]],\n",
      "\n",
      "       [[ 71,  81, 101],\n",
      "        [ 69,  80, 100],\n",
      "        [ 69,  79,  99],\n",
      "        ...,\n",
      "        [  0,   0,   0],\n",
      "        [  0,   0,   0],\n",
      "        [  0,   0,   0]],\n",
      "\n",
      "       ...,\n",
      "\n",
      "       [[ 69,  64,  63],\n",
      "        [ 69,  64,  63],\n",
      "        [ 68,  63,  62],\n",
      "        ...,\n",
      "        [ 24,  46,  38],\n",
      "        [ 21,  42,  36],\n",
      "        [ 24,  45,  40]],\n",
      "\n",
      "       [[ 69,  64,  63],\n",
      "        [ 69,  64,  63],\n",
      "        [ 68,  63,  62],\n",
      "        ...,\n",
      "        [ 27,  47,  39],\n",
      "        [ 22,  41,  36],\n",
      "        [ 23,  42,  37]],\n",
      "\n",
      "       [[ 69,  64,  63],\n",
      "        [ 69,  64,  63],\n",
      "        [ 68,  63,  62],\n",
      "        ...,\n",
      "        [ 29,  47,  40],\n",
      "        [ 23,  40,  36],\n",
      "        [ 22,  39,  35]]], dtype=uint8), array([[[  5,   1,   2],\n",
      "        [ 28,  25,  27],\n",
      "        [115, 114, 120],\n",
      "        ...,\n",
      "        [113, 120, 117],\n",
      "        [108, 115, 112],\n",
      "        [ 99, 106, 103]],\n",
      "\n",
      "       [[  9,   4,   5],\n",
      "        [  7,   5,   6],\n",
      "        [ 35,  34,  39],\n",
      "        ...,\n",
      "        [132, 140, 138],\n",
      "        [135, 142, 139],\n",
      "        [134, 142, 139]],\n",
      "\n",
      "       [[  4,   2,   2],\n",
      "        [  4,   3,   2],\n",
      "        [  6,   7,   8],\n",
      "        ...,\n",
      "        [ 77,  86,  84],\n",
      "        [ 78,  86,  84],\n",
      "        [ 78,  88,  86]],\n",
      "\n",
      "       ...,\n",
      "\n",
      "       [[  0,   0,   0],\n",
      "        [  0,   0,   0],\n",
      "        [  0,   0,   0],\n",
      "        ...,\n",
      "        [ 52,  65,  61],\n",
      "        [ 32,  46,  43],\n",
      "        [ 25,  43,  38]],\n",
      "\n",
      "       [[  0,   0,   0],\n",
      "        [  0,   0,   0],\n",
      "        [  0,   0,   0],\n",
      "        ...,\n",
      "        [ 69,  78,  75],\n",
      "        [ 48,  58,  55],\n",
      "        [ 31,  43,  40]],\n",
      "\n",
      "       [[  0,   0,   0],\n",
      "        [  0,   0,   0],\n",
      "        [  0,   0,   0],\n",
      "        ...,\n",
      "        [  1,   5,   2],\n",
      "        [ 59,  65,  62],\n",
      "        [ 72,  81,  78]]], dtype=uint8)]\n"
     ]
    }
   ],
   "source": [
    "#Read the images from your directory\n",
    "dim=(600,500)\n",
    "left=cv2.imread('C:/Users/Admin/Desktop/project/stitch test/left.jpg',cv2.IMREAD_COLOR)\n",
    "left=cv2.resize(left,dim,interpolation = cv2.INTER_AREA)   #ReSize to (1024,768)\n",
    "right=cv2.imread('C:/Users/Admin/Desktop/project/stitch test/right.jpg',cv2.IMREAD_COLOR)\n",
    "right=cv2.resize(right,dim,interpolation = cv2.INTER_AREA) #ReSize to (1024,768)\n",
    "\n",
    "images=[]\n",
    "images.append(left)\n",
    "images.append(right)\n",
    "print(images)"
   ]
  },
  {
   "cell_type": "code",
   "execution_count": 8,
   "metadata": {},
   "outputs": [
    {
     "name": "stdout",
     "output_type": "stream",
     "text": [
      "Error during Stitching\n"
     ]
    }
   ],
   "source": [
    "#stitcher = cv2.createStitcher()\n",
    "stitcher = cv2.Stitcher.create()\n",
    "ret,pano = stitcher.stitch(images)\n",
    "\n",
    "if ret==cv2.STITCHER_OK:\n",
    "    cv2.imshow('Panorama',pano)\n",
    "    cv2.waitKey()\n",
    "    cv2.destroyAllWindows()\n",
    "else:\n",
    "    print(\"Error during Stitching\")\n",
    "    "
   ]
  },
  {
   "cell_type": "code",
   "execution_count": 4,
   "metadata": {
    "scrolled": true
   },
   "outputs": [],
   "source": [
    "import imutils\n",
    "stitched = cv2.copyMakeBorder(pano, 10, 10, 10, 10,cv2.BORDER_CONSTANT, (0, 0, 0))\n",
    "# convert the stitched image to grayscale and threshold it\n",
    "# such that all pixels greater than zero are set to 255\n",
    "# (foreground) while all others remain 0 (background)\n",
    "gray = cv2.cvtColor(stitched, cv2.COLOR_BGR2GRAY)\n",
    "thresh = cv2.threshold(gray, 0, 255, cv2.THRESH_BINARY)[1]\n",
    "# find all external contours in the threshold image then find\n",
    "# the *largest* contour which will be the contour/outline of\n",
    "# the stitched image\n",
    "cnts = cv2.findContours(thresh.copy(), cv2.RETR_EXTERNAL,\n",
    "cv2.CHAIN_APPROX_SIMPLE)\n",
    "cnts = imutils.grab_contours(cnts)\n",
    "c = max(cnts, key=cv2.contourArea)\n",
    "# allocate memory for the mask which will contain the\n",
    "# rectangular bounding box of the stitched image region\n",
    "mask = np.zeros(thresh.shape, dtype=\"uint8\")\n",
    "(x, y, w, h) = cv2.boundingRect(c)\n",
    "cv2.rectangle(mask, (x, y), (x + w, y + h), 255, -1)\n",
    "\n",
    "# create two copies of the mask: one to serve as our actual\n",
    "# minimum rectangular region and another to serve as a counter\n",
    "# for how many pixels need to be removed to form the minimum\n",
    "# rectangular region\n",
    "minRect = mask.copy()\n",
    "sub = mask.copy()\n",
    "# keep looping until there are no non-zero pixels left in the\n",
    "# subtracted image\n",
    "while cv2.countNonZero(sub) > 0:\n",
    "    # erode the minimum rectangular mask and then subtract\n",
    "    # the thresholded image from the minimum rectangular mask\n",
    "    # so we can count if there are any non-zero pixels left\n",
    "    minRect = cv2.erode(minRect, None)\n",
    "    sub = cv2.subtract(minRect, thresh)\n",
    "    \n",
    "# find contours in the minimum rectangular mask and then\n",
    "# extract the bounding box (x, y)-coordinates\n",
    "cnts = cv2.findContours(minRect.copy(), cv2.RETR_EXTERNAL,cv2.CHAIN_APPROX_SIMPLE)\n",
    "cnts = imutils.grab_contours(cnts)\n",
    "c = max(cnts, key=cv2.contourArea)\n",
    "(x, y, w, h) = cv2.boundingRect(c)\n",
    "# use the bounding box coordinates to extract the our final\n",
    "# stitched image\n",
    "stitched = stitched[y:y + h, x:x + w]"
   ]
  },
  {
   "cell_type": "code",
   "execution_count": 5,
   "metadata": {},
   "outputs": [],
   "source": [
    "cv2.imshow(\"Stitched\", stitched)\n",
    "cv2.waitKey()\n",
    "cv2.destroyAllWindows()"
   ]
  }
 ],
 "metadata": {
  "kernelspec": {
   "display_name": "Python 3",
   "language": "python",
   "name": "python3"
  },
  "language_info": {
   "codemirror_mode": {
    "name": "ipython",
    "version": 3
   },
   "file_extension": ".py",
   "mimetype": "text/x-python",
   "name": "python",
   "nbconvert_exporter": "python",
   "pygments_lexer": "ipython3",
   "version": "3.7.3"
  }
 },
 "nbformat": 4,
 "nbformat_minor": 2
}
