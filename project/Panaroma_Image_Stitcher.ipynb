{
 "cells": [
  {
   "cell_type": "markdown",
   "metadata": {},
   "source": [
    "# Image stitching (Panorama Maker)"
   ]
  },
  {
   "cell_type": "code",
   "execution_count": null,
   "metadata": {},
   "outputs": [],
   "source": [
    "import cv2\n",
    "import numpy as np\n",
    "print(cv2.__file__)"
   ]
  },
  {
   "cell_type": "code",
   "execution_count": 1,
   "metadata": {},
   "outputs": [
    {
     "ename": "NameError",
     "evalue": "name 'cv2' is not defined",
     "output_type": "error",
     "traceback": [
      "\u001b[1;31m---------------------------------------------------------------------------\u001b[0m",
      "\u001b[1;31mNameError\u001b[0m                                 Traceback (most recent call last)",
      "\u001b[1;32m<ipython-input-1-04bc864c822a>\u001b[0m in \u001b[0;36m<module>\u001b[1;34m\u001b[0m\n\u001b[0;32m      1\u001b[0m \u001b[1;31m#Read the images from your directory\u001b[0m\u001b[1;33m\u001b[0m\u001b[1;33m\u001b[0m\u001b[1;33m\u001b[0m\u001b[0m\n\u001b[0;32m      2\u001b[0m \u001b[0mdim\u001b[0m\u001b[1;33m=\u001b[0m\u001b[1;33m(\u001b[0m\u001b[1;36m500\u001b[0m\u001b[1;33m,\u001b[0m\u001b[1;36m400\u001b[0m\u001b[1;33m)\u001b[0m\u001b[1;33m\u001b[0m\u001b[1;33m\u001b[0m\u001b[0m\n\u001b[1;32m----> 3\u001b[1;33m \u001b[0mleft\u001b[0m\u001b[1;33m=\u001b[0m\u001b[0mcv2\u001b[0m\u001b[1;33m.\u001b[0m\u001b[0mimread\u001b[0m\u001b[1;33m(\u001b[0m\u001b[1;34m'C:/Users/Admin/Desktop/project/stitch/test1.png'\u001b[0m\u001b[1;33m,\u001b[0m\u001b[0mcv2\u001b[0m\u001b[1;33m.\u001b[0m\u001b[0mIMREAD_COLOR\u001b[0m\u001b[1;33m)\u001b[0m\u001b[1;33m\u001b[0m\u001b[1;33m\u001b[0m\u001b[0m\n\u001b[0m\u001b[0;32m      4\u001b[0m \u001b[0mleft\u001b[0m\u001b[1;33m=\u001b[0m\u001b[0mcv2\u001b[0m\u001b[1;33m.\u001b[0m\u001b[0mresize\u001b[0m\u001b[1;33m(\u001b[0m\u001b[0mleft\u001b[0m\u001b[1;33m,\u001b[0m\u001b[0mdim\u001b[0m\u001b[1;33m,\u001b[0m\u001b[0minterpolation\u001b[0m \u001b[1;33m=\u001b[0m \u001b[0mcv2\u001b[0m\u001b[1;33m.\u001b[0m\u001b[0mINTER_AREA\u001b[0m\u001b[1;33m)\u001b[0m   \u001b[1;31m#ReSize to (1024,768)\u001b[0m\u001b[1;33m\u001b[0m\u001b[1;33m\u001b[0m\u001b[0m\n\u001b[0;32m      5\u001b[0m \u001b[0mright\u001b[0m\u001b[1;33m=\u001b[0m\u001b[0mcv2\u001b[0m\u001b[1;33m.\u001b[0m\u001b[0mimread\u001b[0m\u001b[1;33m(\u001b[0m\u001b[1;34m'C:/Users/Admin/Desktop/project/stitch/test2.png'\u001b[0m\u001b[1;33m,\u001b[0m\u001b[0mcv2\u001b[0m\u001b[1;33m.\u001b[0m\u001b[0mIMREAD_COLOR\u001b[0m\u001b[1;33m)\u001b[0m\u001b[1;33m\u001b[0m\u001b[1;33m\u001b[0m\u001b[0m\n",
      "\u001b[1;31mNameError\u001b[0m: name 'cv2' is not defined"
     ]
    }
   ],
   "source": [
    "#Read the images from your directory\n",
    "dim=(500,400)\n",
    "left=cv2.imread('C:/Users/Admin/Desktop/project/stitch/test1.png',cv2.IMREAD_COLOR)\n",
    "left=cv2.resize(left,dim,interpolation = cv2.INTER_AREA)   #ReSize to (1024,768)\n",
    "right=cv2.imread('C:/Users/Admin/Desktop/project/stitch/test2.png',cv2.IMREAD_COLOR)\n",
    "right=cv2.resize(right,dim,interpolation = cv2.INTER_AREA) #ReSize to (1024,768)\n",
    "cv2.imshow(\"left\",left)\n",
    "print(left.shape)\n",
    "cv2.imshow(\"right\",right)\n",
    "cv2.waitKey(0)\n",
    "images=[]\n",
    "images.append(left)\n",
    "images.append(right)\n",
    "print(images)"
   ]
  },
  {
   "cell_type": "code",
   "execution_count": 3,
   "metadata": {},
   "outputs": [
    {
     "name": "stdout",
     "output_type": "stream",
     "text": [
      "Error during Stitching\n"
     ]
    }
   ],
   "source": [
    "#stitcher = cv2.createStitcher()\n",
    "stitcher = cv2.Stitcher.create()\n",
    "ret,pano = stitcher.stitch(images)\n",
    "\n",
    "if ret==cv2.STITCHER_OK:\n",
    "    cv2.imshow('Panorama',pano)\n",
    "    cv2.waitKey()\n",
    "    cv2.destroyAllWindows()\n",
    "else:\n",
    "    print(\"Error during Stitching\")\n",
    "    "
   ]
  },
  {
   "cell_type": "code",
   "execution_count": 4,
   "metadata": {
    "scrolled": true
   },
   "outputs": [],
   "source": [
    "import imutils\n",
    "stitched = cv2.copyMakeBorder(pano, 10, 10, 10, 10,cv2.BORDER_CONSTANT, (0, 0, 0))\n",
    "# convert the stitched image to grayscale and threshold it\n",
    "# such that all pixels greater than zero are set to 255\n",
    "# (foreground) while all others remain 0 (background)\n",
    "gray = cv2.cvtColor(stitched, cv2.COLOR_BGR2GRAY)\n",
    "thresh = cv2.threshold(gray, 0, 255, cv2.THRESH_BINARY)[1]\n",
    "# find all external contours in the threshold image then find\n",
    "# the *largest* contour which will be the contour/outline of\n",
    "# the stitched image\n",
    "cnts = cv2.findContours(thresh.copy(), cv2.RETR_EXTERNAL,\n",
    "cv2.CHAIN_APPROX_SIMPLE)\n",
    "cnts = imutils.grab_contours(cnts)\n",
    "c = max(cnts, key=cv2.contourArea)\n",
    "# allocate memory for the mask which will contain the\n",
    "# rectangular bounding box of the stitched image region\n",
    "mask = np.zeros(thresh.shape, dtype=\"uint8\")\n",
    "(x, y, w, h) = cv2.boundingRect(c)\n",
    "cv2.rectangle(mask, (x, y), (x + w, y + h), 255, -1)\n",
    "\n",
    "# create two copies of the mask: one to serve as our actual\n",
    "# minimum rectangular region and another to serve as a counter\n",
    "# for how many pixels need to be removed to form the minimum\n",
    "# rectangular region\n",
    "minRect = mask.copy()\n",
    "sub = mask.copy()\n",
    "# keep looping until there are no non-zero pixels left in the\n",
    "# subtracted image\n",
    "while cv2.countNonZero(sub) > 0:\n",
    "    # erode the minimum rectangular mask and then subtract\n",
    "    # the thresholded image from the minimum rectangular mask\n",
    "    # so we can count if there are any non-zero pixels left\n",
    "    minRect = cv2.erode(minRect, None)\n",
    "    sub = cv2.subtract(minRect, thresh)\n",
    "    \n",
    "# find contours in the minimum rectangular mask and then\n",
    "# extract the bounding box (x, y)-coordinates\n",
    "cnts = cv2.findContours(minRect.copy(), cv2.RETR_EXTERNAL,cv2.CHAIN_APPROX_SIMPLE)\n",
    "cnts = imutils.grab_contours(cnts)\n",
    "c = max(cnts, key=cv2.contourArea)\n",
    "(x, y, w, h) = cv2.boundingRect(c)\n",
    "# use the bounding box coordinates to extract the our final\n",
    "# stitched image\n",
    "stitched = stitched[y:y + h, x:x + w]"
   ]
  },
  {
   "cell_type": "code",
   "execution_count": 5,
   "metadata": {},
   "outputs": [],
   "source": [
    "cv2.imshow(\"Stitched\", stitched)\n",
    "cv2.waitKey()\n",
    "cv2.destroyAllWindows()"
   ]
  }
 ],
 "metadata": {
  "kernelspec": {
   "display_name": "Python 3",
   "language": "python",
   "name": "python3"
  },
  "language_info": {
   "codemirror_mode": {
    "name": "ipython",
    "version": 3
   },
   "file_extension": ".py",
   "mimetype": "text/x-python",
   "name": "python",
   "nbconvert_exporter": "python",
   "pygments_lexer": "ipython3",
   "version": "3.7.3"
  }
 },
 "nbformat": 4,
 "nbformat_minor": 2
}
