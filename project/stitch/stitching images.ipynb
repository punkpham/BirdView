{
 "cells": [
  {
   "cell_type": "code",
   "execution_count": 2,
   "metadata": {},
   "outputs": [
    {
     "name": "stdout",
     "output_type": "stream",
     "text": [
      "4.2.0\n"
     ]
    }
   ],
   "source": [
    "print(cv2.__version__)"
   ]
  },
  {
   "cell_type": "code",
   "execution_count": 1,
   "metadata": {},
   "outputs": [],
   "source": [
    "import cv2\n",
    "import numpy as np\n",
    "import matplotlib.pyplot as plt\n",
    "from random import randrange"
   ]
  },
  {
   "cell_type": "code",
   "execution_count": 5,
   "metadata": {},
   "outputs": [
    {
     "name": "stdout",
     "output_type": "stream",
     "text": [
      "[[ 7.65715731e-01  3.72082574e-02  4.46807943e+02]\n",
      " [-1.35565541e-01  9.12377362e-01  7.60569812e+01]\n",
      " [-2.10834981e-04 -3.20176690e-05  1.00000000e+00]]\n"
     ]
    }
   ],
   "source": [
    "img = cv2.imread('C:/Users/Admin/Desktop/project/stitch/right.png')\n",
    "img = cv2.cvtColor(img,cv2.COLOR_BGR2GRAY)\n",
    "img1 = cv2.imread('C:/Users/Admin/Desktop/project/stitch/left.png')\n",
    "img1 = cv2.cvtColor(img1,cv2.COLOR_BGR2GRAY)\n",
    "\n",
    "sift = cv2.xfeatures2d.SIFT_create()\n",
    "# find the keypoints and descriptors with SIFT\n",
    "kp1, des1 = sift.detectAndCompute(img,None)\n",
    "kp2, des2 = sift.detectAndCompute(img1,None)\n",
    "\n",
    "bf = cv2.BFMatcher()\n",
    "matches = bf.knnMatch(des1,des2, k=2)\n",
    "\n",
    "# Apply ratio test\n",
    "good = []\n",
    "for m in matches:\n",
    "    if m[0].distance < 0.5*m[1].distance:\n",
    "        good.append(m)\n",
    "matches = np.asarray(good)\n",
    "\n",
    "\n",
    "if len(matches[:,0]) >= 4:\n",
    "    src = np.float32([ kp1[m.queryIdx].pt for m in matches[:,0] ]).reshape(-1,1,2)\n",
    "    dst = np.float32([ kp2[m.trainIdx].pt for m in matches[:,0] ]).reshape(-1,1,2)\n",
    "\n",
    "    H, masked = cv2.findHomography(src, dst, cv2.RANSAC, 5.0)\n",
    "    print (H)\n",
    "else:\n",
    "    raise AssertionError(\"Can't find enough keypoints.\")\n",
    "\n",
    "dst = cv2.warpPerspective(img1,H,(img.shape[1] + img1.shape[1], img.shape[0]))\n",
    "\n",
    "dst[0:img.shape[0], 0:img.shape[1]] = img\n",
    "cv2.imshow('output.jpg',dst)\n",
    "\n",
    "cv2.waitKey(0)  \n",
    "  \n",
    "#closing all open windows  \n",
    "cv2.destroyAllWindows()  "
   ]
  },
  {
   "cell_type": "code",
   "execution_count": 4,
   "metadata": {},
   "outputs": [],
   "source": [
    "img = cv2.imread('C:/Users/Admin/Desktop/project/stitch/right.png')\n",
    "cv2.imshow('img',img)\n",
    "cv2.waitKey(0)  \n",
    "  \n",
    "#closing all open windows  \n",
    "cv2.destroyAllWindows()  "
   ]
  },
  {
   "cell_type": "code",
   "execution_count": 9,
   "metadata": {},
   "outputs": [
    {
     "name": "stdout",
     "output_type": "stream",
     "text": [
      "[array([[[106, 105, 104],\n",
      "        [128, 128, 128],\n",
      "        [ 79,  87,  86],\n",
      "        ...,\n",
      "        [106, 105, 104],\n",
      "        [237, 234, 231],\n",
      "        [237, 234, 231]],\n",
      "\n",
      "       [[106, 105, 104],\n",
      "        [128, 128, 128],\n",
      "        [  0,   0,   0],\n",
      "        ...,\n",
      "        [106, 105, 104],\n",
      "        [237, 234, 231],\n",
      "        [237, 234, 231]],\n",
      "\n",
      "       [[112, 112, 112],\n",
      "        [128, 128, 128],\n",
      "        [  0,   0,   0],\n",
      "        ...,\n",
      "        [112, 112, 112],\n",
      "        [255, 255, 255],\n",
      "        [255, 255, 255]],\n",
      "\n",
      "       ...,\n",
      "\n",
      "       [[106, 106, 106],\n",
      "        [128, 128, 128],\n",
      "        [128, 128, 128],\n",
      "        ...,\n",
      "        [109, 109, 109],\n",
      "        [247, 247, 247],\n",
      "        [247, 247, 247]],\n",
      "\n",
      "       [[106, 106, 106],\n",
      "        [106, 106, 106],\n",
      "        [106, 106, 106],\n",
      "        ...,\n",
      "        [109, 109, 109],\n",
      "        [247, 247, 247],\n",
      "        [247, 247, 247]],\n",
      "\n",
      "       [[238, 238, 238],\n",
      "        [238, 238, 238],\n",
      "        [238, 238, 238],\n",
      "        ...,\n",
      "        [247, 247, 247],\n",
      "        [247, 247, 247],\n",
      "        [247, 247, 247]]], dtype=uint8), array([[[237, 234, 231],\n",
      "        [106, 105, 104],\n",
      "        [255, 255, 255],\n",
      "        ...,\n",
      "        [255, 255, 255],\n",
      "        [106, 105, 104],\n",
      "        [237, 234, 231]],\n",
      "\n",
      "       [[237, 234, 231],\n",
      "        [106, 105, 104],\n",
      "        [128, 128, 128],\n",
      "        ...,\n",
      "        [128, 128, 128],\n",
      "        [106, 105, 104],\n",
      "        [237, 234, 231]],\n",
      "\n",
      "       [[237, 234, 231],\n",
      "        [106, 105, 104],\n",
      "        [128, 128, 128],\n",
      "        ...,\n",
      "        [128, 128, 128],\n",
      "        [106, 105, 104],\n",
      "        [237, 234, 231]],\n",
      "\n",
      "       ...,\n",
      "\n",
      "       [[247, 247, 247],\n",
      "        [109, 109, 109],\n",
      "        [128, 128, 128],\n",
      "        ...,\n",
      "        [128, 128, 128],\n",
      "        [106, 106, 106],\n",
      "        [238, 238, 238]],\n",
      "\n",
      "       [[247, 247, 247],\n",
      "        [109, 109, 109],\n",
      "        [128, 128, 128],\n",
      "        ...,\n",
      "        [128, 128, 128],\n",
      "        [106, 106, 106],\n",
      "        [238, 238, 238]],\n",
      "\n",
      "       [[247, 247, 247],\n",
      "        [109, 109, 109],\n",
      "        [109, 109, 109],\n",
      "        ...,\n",
      "        [106, 106, 106],\n",
      "        [106, 106, 106],\n",
      "        [238, 238, 238]]], dtype=uint8)]\n"
     ]
    },
    {
     "ename": "error",
     "evalue": "OpenCV(4.2.0) C:\\projects\\opencv-python\\opencv\\modules\\imgcodecs\\src\\loadsave.cpp:715: error: (-215:Assertion failed) !_img.empty() in function 'cv::imwrite'\n",
     "output_type": "error",
     "traceback": [
      "\u001b[1;31m---------------------------------------------------------------------------\u001b[0m",
      "\u001b[1;31merror\u001b[0m                                     Traceback (most recent call last)",
      "\u001b[1;32m<ipython-input-9-3808678e054c>\u001b[0m in \u001b[0;36m<module>\u001b[1;34m\u001b[0m\n\u001b[0;32m     11\u001b[0m \u001b[0mstatus\u001b[0m\u001b[1;33m,\u001b[0m \u001b[0mresult\u001b[0m \u001b[1;33m=\u001b[0m \u001b[0mstitcher\u001b[0m\u001b[1;33m.\u001b[0m\u001b[0mstitch\u001b[0m\u001b[1;33m(\u001b[0m\u001b[0mimages\u001b[0m\u001b[1;33m)\u001b[0m\u001b[1;33m\u001b[0m\u001b[1;33m\u001b[0m\u001b[0m\n\u001b[0;32m     12\u001b[0m \u001b[0mprint\u001b[0m\u001b[1;33m(\u001b[0m\u001b[0mimages\u001b[0m\u001b[1;33m)\u001b[0m\u001b[1;33m\u001b[0m\u001b[1;33m\u001b[0m\u001b[0m\n\u001b[1;32m---> 13\u001b[1;33m \u001b[0mcv2\u001b[0m\u001b[1;33m.\u001b[0m\u001b[0mimwrite\u001b[0m\u001b[1;33m(\u001b[0m\u001b[1;34m'result.png'\u001b[0m\u001b[1;33m,\u001b[0m\u001b[0mresult\u001b[0m\u001b[1;33m)\u001b[0m\u001b[1;33m\u001b[0m\u001b[1;33m\u001b[0m\u001b[0m\n\u001b[0m\u001b[0;32m     14\u001b[0m \u001b[0mcv2\u001b[0m\u001b[1;33m.\u001b[0m\u001b[0mwaitKey\u001b[0m\u001b[1;33m(\u001b[0m\u001b[1;36m0\u001b[0m\u001b[1;33m)\u001b[0m\u001b[1;33m\u001b[0m\u001b[1;33m\u001b[0m\u001b[0m\n\u001b[0;32m     15\u001b[0m \u001b[1;33m\u001b[0m\u001b[0m\n",
      "\u001b[1;31merror\u001b[0m: OpenCV(4.2.0) C:\\projects\\opencv-python\\opencv\\modules\\imgcodecs\\src\\loadsave.cpp:715: error: (-215:Assertion failed) !_img.empty() in function 'cv::imwrite'\n"
     ]
    }
   ],
   "source": [
    "import cv2\n",
    "\n",
    "imageFiles = ['test1.png','test2.png']\n",
    "images = []\n",
    "for filename in imageFiles:\n",
    "    img = cv2.imread(filename)\n",
    "    images.append(img)\n",
    "\n",
    "cv2.ocl.setUseOpenCL(False)\n",
    "stitcher = cv2.Stitcher.create()\n",
    "status, result = stitcher.stitch(images)             \n",
    "cv2.imwrite('result.png',result)\n",
    "cv2.waitKey(0)  \n",
    "  \n",
    "#closing all open windows  \n",
    "cv2.destroyAllWindows()  "
   ]
  }
 ],
 "metadata": {
  "kernelspec": {
   "display_name": "Python 3",
   "language": "python",
   "name": "python3"
  },
  "language_info": {
   "codemirror_mode": {
    "name": "ipython",
    "version": 3
   },
   "file_extension": ".py",
   "mimetype": "text/x-python",
   "name": "python",
   "nbconvert_exporter": "python",
   "pygments_lexer": "ipython3",
   "version": "3.7.3"
  }
 },
 "nbformat": 4,
 "nbformat_minor": 2
}
