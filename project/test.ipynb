{
 "cells": [
  {
   "cell_type": "code",
   "execution_count": 8,
   "metadata": {},
   "outputs": [],
   "source": [
    "import cv2\n",
    "import numpy as np\n",
    "import math\n",
    "img = cv2.imread('capture.PNG', cv2.IMREAD_GRAYSCALE)\n",
    "rows, cols = img.shape\n",
    "# Vertical wave\n",
    "img_output = np.zeros(img.shape, dtype=img.dtype)\n",
    "for i in range(rows):\n",
    "    for j in range(cols):\n",
    "        offset_x = int(25.0 * math.sin(2 * 3.14 * i / 180))\n",
    "        offset_y = 0\n",
    "        if j+offset_x < rows:\n",
    "            img_output[i,j] = img[i,(j+offset_x)%cols]\n",
    "        else:\n",
    "            img_output[i,j] = 0\n",
    "cv2.imshow('Input', img)\n",
    "cv2.imshow('Vertical wave', img_output)\n",
    "#####################\n",
    "# Horizontal wave\n",
    "img_output = np.zeros(img.shape, dtype=img.dtype)\n",
    "for i in range(rows):\n",
    "    for j in range(cols):\n",
    "        offset_x = 0\n",
    "        offset_y = int(16.0 * math.sin(2 * 3.14 * j / 150))\n",
    "        if i+offset_y < rows:\n",
    "            img_output[i,j] = img[(i+offset_y)%rows,j]\n",
    "        else:\n",
    "            img_output[i,j] = 0\n",
    "cv2.imshow('Horizontal wave', img_output)\n",
    "#####################\n",
    "# Both horizontal and vertical\n",
    "img_output = np.zeros(img.shape, dtype=img.dtype)\n",
    "for i in range(rows):\n",
    "    for j in range(cols):\n",
    "        offset_x = int(20.0 * math.sin(2 * 3.14 * i / 150))\n",
    "        offset_y = int(20.0 * math.cos(2 * 3.14 * j / 150))\n",
    "        if i+offset_y < rows and j+offset_x < cols:\n",
    "            img_output[i,j] = img[(i+offset_y)%rows,(j+offset_x)%cols]\n",
    "        else:\n",
    "             img_output[i,j] = 0\n",
    "cv2.imshow('Multidirectional wave', img_output)\n",
    "\n",
    "#####################\n",
    "# Concave effect\n",
    "img_output = np.zeros(img.shape, dtype=img.dtype)\n",
    "for i in range(rows):\n",
    "    for j in range(cols):\n",
    "        offset_x = int(128.0 * math.sin(2 * 3.14 * i / (2*cols)))\n",
    "        offset_y = 0\n",
    "        if j+offset_x < cols:\n",
    "            img_output[i,j] = img[i,(j+offset_x)%cols]\n",
    "        else:\n",
    "            img_output[i,j] = 0\n",
    "cv2.imshow('Concave', img_output)\n",
    "cv2.waitKey(0)\n",
    "cv2.destroyAllWindows() "
   ]
  },
  {
   "cell_type": "code",
   "execution_count": 7,
   "metadata": {},
   "outputs": [
    {
     "name": "stdout",
     "output_type": "stream",
     "text": [
      "(468, 346)\n"
     ]
    }
   ],
   "source": [
    "print(img.shape)"
   ]
  },
  {
   "cell_type": "code",
   "execution_count": 7,
   "metadata": {},
   "outputs": [],
   "source": [
    "# Horizontal wave\n",
    "cv2.imshow('Input', img)\n",
    "img_output = np.zeros(img.shape, dtype=img.dtype)\n",
    "for i in range(rows):\n",
    "    for j in range(cols):\n",
    "        offset_x = 0\n",
    "        offset_y = int(40 * math.sin(2 * 3.14 * j / (2*cols)))\n",
    "        if i+offset_y < rows:\n",
    "            img_output[i,j] = img[(i+offset_y)%rows,j]\n",
    "        else:\n",
    "            img_output[i,j] = 0\n",
    "\n",
    "cv2.imshow('Horizontal wave', img_output)\n",
    "cv2.waitKey(0)\n",
    "cv2.destroyAllWindows() "
   ]
  },
  {
   "cell_type": "code",
   "execution_count": null,
   "metadata": {},
   "outputs": [],
   "source": []
  }
 ],
 "metadata": {
  "kernelspec": {
   "display_name": "Python 3",
   "language": "python",
   "name": "python3"
  },
  "language_info": {
   "codemirror_mode": {
    "name": "ipython",
    "version": 3
   },
   "file_extension": ".py",
   "mimetype": "text/x-python",
   "name": "python",
   "nbconvert_exporter": "python",
   "pygments_lexer": "ipython3",
   "version": "3.7.3"
  }
 },
 "nbformat": 4,
 "nbformat_minor": 2
}
